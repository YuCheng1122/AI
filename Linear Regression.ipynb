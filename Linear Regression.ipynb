{
 "cells": [
  {
   "cell_type": "code",
   "execution_count": 2,
   "id": "cedcf3d9",
   "metadata": {},
   "outputs": [
    {
     "data": {
      "text/plain": [
       "'\\nLinear Regression 使用時機:\\n1. 標籤(y)為連續值\\n2. 資料量較少\\n3. 假設資料特徵和標籤之間有線性關係\\n\\n透過 Feature Transformation and Normalization 幫助快速收斂\\n\\nRegression:\\n1. Mean Absolute Error\\n2. Root Mean Absolute Error\\n3. R2 Score\\n\\nClassification:\\n1. Accuracy\\n2. F1 Score\\n'"
      ]
     },
     "execution_count": 2,
     "metadata": {},
     "output_type": "execute_result"
    }
   ],
   "source": [
    "'''\n",
    "Linear Regression 使用時機:\n",
    "1. 標籤(y)為連續值\n",
    "2. 資料量較少\n",
    "3. 假設資料特徵和標籤之間有線性關係\n",
    "\n",
    "透過 Feature Transformation and Normalization 幫助快速收斂\n",
    "\n",
    "Regression:\n",
    "1. Mean Absolute Error\n",
    "2. Root Mean Absolute Error\n",
    "3. R2 Score\n",
    "\n",
    "Classification:\n",
    "1. Accuracy\n",
    "2. F1 Score\n",
    "'''"
   ]
  },
  {
   "cell_type": "code",
   "execution_count": 3,
   "id": "624b515b",
   "metadata": {},
   "outputs": [
    {
     "data": {
      "image/png": "[encoded data removed]",
      "text/plain": [
       "<Figure size 432x288 with 1 Axes>"
      ]
     },
     "metadata": {
      "needs_background": "light"
     },
     "output_type": "display_data"
    }
   ],
   "source": [
    "import matplotlib.pyplot as plt\n",
    "import numpy as np\n",
    "\n",
    "np.random.seed(0)\n",
    "noise=np.random.rand(100,1)\n",
    "x=np.random.rand(100,1)\n",
    "y=3*x+15+noise\n",
    "\n",
    "plt.scatter(x,y,s=10)\n",
    "plt.xlabel('x')\n",
    "plt.show()"
   ]
  },
  {
   "cell_type": "code",
   "execution_count": 4,
   "id": "7d964e7c",
   "metadata": {},
   "outputs": [
    {
     "data": {
      "text/plain": [
       "'\\nLinear Regression\\n\\nParameters:\\nfit_intercept: 是否有截距，如果沒有直接過原點\\n\\nAttributes:\\ncoef_: 取得斜率\\nintercept_: 取得截距\\n\\nMethods:\\nfit: 放入x,y進行模型擬合\\npredict: 預測並回傳預測類別\\nscore: R2 score 模型評估\\n'"
      ]
     },
     "execution_count": 4,
     "metadata": {},
     "output_type": "execute_result"
    }
   ],
   "source": [
    "'''\n",
    "Linear Regression\n",
    "\n",
    "Parameters:\n",
    "fit_intercept: 是否有截距，如果沒有直接過原點\n",
    "\n",
    "Attributes:\n",
    "coef_: 取得斜率\n",
    "intercept_: 取得截距\n",
    "\n",
    "Methods:\n",
    "fit: 放入x,y進行模型擬合\n",
    "predict: 預測並回傳預測類別\n",
    "score: R2 score 模型評估\n",
    "'''"
   ]
  },
  {
   "cell_type": "code",
   "execution_count": 5,
   "id": "1c7893b7",
   "metadata": {},
   "outputs": [],
   "source": [
    "from sklearn.linear_model import LinearRegression\n",
    "\n",
    "linearModel=LinearRegression(fit_intercept=True)\n",
    "linearModel.fit(x,y)\n",
    "predicted=linearModel.predict(x)"
   ]
  },
  {
   "cell_type": "code",
   "execution_count": 6,
   "id": "5101bf3e",
   "metadata": {},
   "outputs": [
    {
     "data": {
      "text/plain": [
       "'\\n模型評估\\nscikit-learn 決策樹回歸模型的score函式是R2 score，可作為模型評估依據，其數值越接近於1代表模\\n'"
      ]
     },
     "execution_count": 6,
     "metadata": {},
     "output_type": "execute_result"
    }
   ],
   "source": [
    "'''\n",
    "模型評估\n",
    "scikit-learn 決策樹回歸模型的score函式是R2 score，可作為模型評估依據，其數值越接近於1代表模\n",
    "'''"
   ]
  },
  {
   "cell_type": "code",
   "execution_count": 8,
   "id": "e2e53dbf",
   "metadata": {},
   "outputs": [
    {
     "name": "stdout",
     "output_type": "stream",
     "text": [
      "R2 score:  0.888257994980688\n",
      "MSE score:  0.0827545781222876\n"
     ]
    }
   ],
   "source": [
    "from sklearn import metrics\n",
    "print('R2 score: ', linearModel.score(x,y))\n",
    "mse= metrics.mean_squared_error(y,predicted)\n",
    "print('MSE score: ', mse)"
   ]
  },
  {
   "cell_type": "code",
   "execution_count": 10,
   "id": "dc4bd705",
   "metadata": {},
   "outputs": [
    {
     "data": {
      "image/png": "[encoded data removed]",
      "text/plain": [
       "<Figure size 432x288 with 1 Axes>"
      ]
     },
     "metadata": {
      "needs_background": "light"
     },
     "output_type": "display_data"
    }
   ],
   "source": [
    "plt.scatter(x,y,s=10,label=True)\n",
    "plt.scatter(x,predicted,color='r',s=10,label='Predicted')\n",
    "plt.xlabel('x')\n",
    "plt.ylabel('y')\n",
    "plt.legend()\n",
    "plt.show()"
   ]
  },
  {
   "cell_type": "code",
   "execution_count": 13,
   "id": "d81ced3b",
   "metadata": {},
   "outputs": [
    {
     "name": "stdout",
     "output_type": "stream",
     "text": [
      "slope a= 2.9311233545408935\n",
      "intercept b= 15.509166339414463\n"
     ]
    }
   ],
   "source": [
    "coef=linearModel.coef_\n",
    "intercept=linearModel.intercept_\n",
    "\n",
    "print('slope a=',coef[0][0])\n",
    "print('intercept b=',intercept[0])"
   ]
  },
  {
   "cell_type": "code",
   "execution_count": 15,
   "id": "f538ee53",
   "metadata": {},
   "outputs": [],
   "source": [
    "rng=np.random.RandomState(1)\n",
    "x=10*rng.rand(100,3)\n",
    "y=0.5+np.dot(x,[1.5,-1.,2.])"
   ]
  },
  {
   "cell_type": "code",
   "execution_count": 16,
   "id": "10b1fc67",
   "metadata": {},
   "outputs": [
    {
     "name": "stdout",
     "output_type": "stream",
     "text": [
      "0.5000000000000142\n",
      "[ 1.5 -1.   2. ]\n"
     ]
    }
   ],
   "source": [
    "linearModel.fit(x,y)\n",
    "pred=linearModel.predict(x)\n",
    "print(linearModel.intercept_)\n",
    "print(linearModel.coef_)"
   ]
  },
  {
   "cell_type": "code",
   "execution_count": 19,
   "id": "0f8292a2",
   "metadata": {},
   "outputs": [
    {
     "data": {
      "text/plain": [
       "[<matplotlib.lines.Line2D at 0x1f972d54790>]"
      ]
     },
     "execution_count": 19,
     "metadata": {},
     "output_type": "execute_result"
    },
    {
     "data": {
      "image/png": "[encoded data removed]",
      "text/plain": [
       "<Figure size 432x288 with 1 Axes>"
      ]
     },
     "metadata": {
      "needs_background": "light"
     },
     "output_type": "display_data"
    }
   ],
   "source": [
    "x=np.array([1,2,3,4,5])\n",
    "y=np.array([1,3,8,6,2])\n",
    "x=x[:,np.newaxis]\n",
    "model=LinearRegression()\n",
    "model.fit(x,y)\n",
    "yfit=model.predict(x)\n",
    "plt.scatter(x,y)\n",
    "plt.plot(x,yfit)"
   ]
  },
  {
   "cell_type": "code",
   "execution_count": 42,
   "id": "2a78b0ef",
   "metadata": {},
   "outputs": [
    {
     "data": {
      "text/plain": [
       "[<matplotlib.lines.Line2D at 0x1f972d3fa90>]"
      ]
     },
     "execution_count": 42,
     "metadata": {},
     "output_type": "execute_result"
    },
    {
     "data": {
      "image/png": "[encoded data removed]",
      "text/plain": [
       "<Figure size 432x288 with 1 Axes>"
      ]
     },
     "metadata": {
      "needs_background": "light"
     },
     "output_type": "display_data"
    }
   ],
   "source": [
    "from sklearn.preprocessing import PolynomialFeatures\n",
    "from sklearn.pipeline import make_pipeline\n",
    "\n",
    "def PolynomialRegression(degree=2,**kwargs):\n",
    "    return make_pipeline(PolynomialFeatures(degree), LinearRegression(**kwargs))\n",
    "ypred=PolynomialRegression(degree=4).fit(x,y).predict(x)\n",
    "plt.plot(x,y,'o')\n",
    "plt.plot(x,ypred)"
   ]
  },
  {
   "cell_type": "code",
   "execution_count": 43,
   "id": "39f4d2fa",
   "metadata": {},
   "outputs": [],
   "source": [
    "\n",
    "#randomly define new value of x,y\n",
    "def make_data(N,err=1,rseed=42):\n",
    "    rng=np.random.RandomState(rseed)\n",
    "    x=rng.rand(N,1)**2\n",
    "    y=10-1/(x.rave()+0.1)\n",
    "    if err>0:\n",
    "        y+=err*rng.randn(N)\n",
    "    return x,y\n"
   ]
  },
  {
   "cell_type": "code",
   "execution_count": 58,
   "id": "266eb43c",
   "metadata": {},
   "outputs": [
    {
     "data": {
      "text/plain": [
       "<matplotlib.legend.Legend at 0x1f975816ce0>"
      ]
     },
     "execution_count": 58,
     "metadata": {},
     "output_type": "execute_result"
    },
    {
     "data": {
      "image/png": "[encoded data removed]",
      "text/plain": [
       "<Figure size 432x288 with 1 Axes>"
      ]
     },
     "metadata": {
      "needs_background": "light"
     },
     "output_type": "display_data"
    }
   ],
   "source": [
    "#test data set\n",
    "x_test=np.linspace(-0.1,1.1,500)[:,None]\n",
    "plt.scatter(x.ravel(),y,color='black')\n",
    "#test the degree of 1,3,9\n",
    "for degree in [1,3,9]:\n",
    "    y_test=PolynomialRegression(degree).fit(x,y).predict(x_test)\n",
    "    plt.plot(x_test.ravel(), y_test, label='degree={}'.format(degree))\n",
    "plt.xlim(-0.1,1.0)\n",
    "plt.ylim(-2,12)\n",
    "plt.legend(loc='best')"
   ]
  },
  {
   "cell_type": "code",
   "execution_count": null,
   "id": "2899c01e",
   "metadata": {},
   "outputs": [],
   "source": []
  }
 ],
 "metadata": {
  "kernelspec": {
   "display_name": "Python 3 (ipykernel)",
   "language": "python",
   "name": "python3"
  },
  "language_info": {
   "codemirror_mode": {
    "name": "ipython",
    "version": 3
   },
   "file_extension": ".py",
   "mimetype": "text/x-python",
   "name": "python",
   "nbconvert_exporter": "python",
   "pygments_lexer": "ipython3",
   "version": "3.10.4"
  }
 },
 "nbformat": 4,
 "nbformat_minor": 5
}
